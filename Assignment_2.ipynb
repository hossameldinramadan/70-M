{
  "cells": [
    {
      "cell_type": "markdown",
      "metadata": {
        "id": "view-in-github",
        "colab_type": "text"
      },
      "source": [
        "<a href=\"https://colab.research.google.com/github/hossameldinramadan/70-M/blob/main/Assignment_2.ipynb\" target=\"_parent\"><img src=\"https://colab.research.google.com/assets/colab-badge.svg\" alt=\"Open In Colab\"/></a>"
      ]
    },
    {
      "cell_type": "markdown",
      "metadata": {
        "collapsed": true,
        "id": "3wPkaorHBgQ9"
      },
      "source": [
        "# Assignment 2\n",
        "Let's test your knowledge!"
      ]
    },
    {
      "cell_type": "markdown",
      "metadata": {
        "id": "j7unlnr9BgRE"
      },
      "source": [
        "_____\n",
        "**Use <code>for</code>, .split(), and <code>if</code> to create a Statement that will print out words that start with 's':**"
      ]
    },
    {
      "cell_type": "code",
      "execution_count": 2,
      "metadata": {
        "id": "CSG_8BrxBgRH"
      },
      "outputs": [],
      "source": [
        "st = 'Print only the words that start with s in this sentence'"
      ]
    },
    {
      "cell_type": "code",
      "execution_count": 3,
      "metadata": {
        "colab": {
          "base_uri": "https://localhost:8080/"
        },
        "id": "daoQwnUQBgRK",
        "outputId": "7251b162-bfd3-4566-ef80-f9be073443f4"
      },
      "outputs": [
        {
          "output_type": "stream",
          "name": "stdout",
          "text": [
            "start\n",
            "s\n",
            "sentence\n"
          ]
        }
      ],
      "source": [
        "x=st.split()\n",
        "for i in range (0,11):\n",
        "  if x[i][0]=='s':\n",
        "    print (x[i])\n"
      ]
    },
    {
      "cell_type": "markdown",
      "metadata": {
        "id": "ZZ982OcSBgRL"
      },
      "source": [
        "______\n",
        "**Use range() to print all the even numbers from 0 to 10.**"
      ]
    },
    {
      "cell_type": "code",
      "execution_count": 10,
      "metadata": {
        "colab": {
          "base_uri": "https://localhost:8080/"
        },
        "id": "Onl9bRw7BgRL",
        "outputId": "1a95ce25-6f64-40d8-d7ae-df61ed4e1628"
      },
      "outputs": [
        {
          "output_type": "stream",
          "name": "stdout",
          "text": [
            "0\n",
            "2\n",
            "4\n",
            "6\n",
            "8\n",
            "10\n"
          ]
        }
      ],
      "source": [
        "for b  in range (0,11):\n",
        "  if b %2== 0:\n",
        "    print(b)"
      ]
    },
    {
      "cell_type": "markdown",
      "metadata": {
        "id": "VaWO3zXoBgRM"
      },
      "source": [
        "___\n",
        "**Use a List Comprehension to create a list of all numbers between 1 and 50 that are divisible by 3.**"
      ]
    },
    {
      "cell_type": "code",
      "source": [
        "a=[]\n",
        "for c in range (1,50):\n",
        "  if c %3==0:\n",
        "    a.insert(50,c)\n",
        "print(a)"
      ],
      "metadata": {
        "colab": {
          "base_uri": "https://localhost:8080/"
        },
        "id": "_MPY_E0Mh93z",
        "outputId": "21e05909-085c-46c7-9da9-69da606e145e"
      },
      "execution_count": 12,
      "outputs": [
        {
          "output_type": "stream",
          "name": "stdout",
          "text": [
            "[3, 6, 9, 12, 15, 18, 21, 24, 27, 30, 33, 36, 39, 42, 45, 48]\n"
          ]
        }
      ]
    },
    {
      "cell_type": "markdown",
      "metadata": {
        "id": "ZU4oH3PVBgRN"
      },
      "source": [
        "_____\n",
        "**Go through the string below and if the length of a word is even print \"even!\"**"
      ]
    },
    {
      "cell_type": "code",
      "execution_count": null,
      "metadata": {
        "id": "MOgPVp6BBgRO"
      },
      "outputs": [],
      "source": [
        "st = 'Print every word in this sentence that has an even number of letters'"
      ]
    },
    {
      "cell_type": "code",
      "execution_count": 16,
      "metadata": {
        "colab": {
          "base_uri": "https://localhost:8080/"
        },
        "outputId": "729d4c9a-9fe9-401e-9860-df3153fe142e",
        "id": "nkMpTlris4DO"
      },
      "outputs": [
        {
          "output_type": "stream",
          "name": "stdout",
          "text": [
            "word\n",
            "in\n",
            "this\n",
            "sentence\n",
            "that\n",
            "an\n",
            "even\n",
            "number\n",
            "of\n"
          ]
        }
      ],
      "source": [
        "st = 'Print every word in this sentence that has an even number of letters'\n",
        "a=st.split(\" \")\n",
        "p=len(a)\n",
        "for d in range(0,p):\n",
        "  if len(a[d]) %2==0:\n",
        "    print (a[d])\n",
        "   \n"
      ]
    },
    {
      "cell_type": "markdown",
      "metadata": {
        "id": "trqxAKbCBgRP"
      },
      "source": [
        "____\n",
        "**Write a program that prints the integers from 1 to 100. But for multiples of three print \"Fizz\" instead of the number, and for the multiples of five print \"Buzz\". For numbers which are multiples of both three and five print \"FizzBuzz\".**"
      ]
    },
    {
      "cell_type": "code",
      "execution_count": 15,
      "metadata": {
        "colab": {
          "base_uri": "https://localhost:8080/"
        },
        "id": "49mB29PABgRQ",
        "outputId": "3d70df3b-d98b-411a-b406-22e181debddf"
      },
      "outputs": [
        {
          "output_type": "stream",
          "name": "stdout",
          "text": [
            "a\n",
            "a\n",
            "Fizz\n",
            "a\n",
            "Buzz\n",
            "Fizz\n",
            "a\n",
            "a\n",
            "Fizz\n",
            "Buzz\n",
            "a\n",
            "Fizz\n",
            "a\n",
            "a\n",
            "Fizz\n",
            "a\n",
            "a\n",
            "Fizz\n",
            "a\n",
            "Buzz\n",
            "Fizz\n",
            "a\n",
            "a\n",
            "Fizz\n",
            "Buzz\n",
            "a\n",
            "Fizz\n",
            "a\n",
            "a\n",
            "Fizz\n",
            "a\n",
            "a\n",
            "Fizz\n",
            "a\n",
            "Buzz\n",
            "Fizz\n",
            "a\n",
            "a\n",
            "Fizz\n",
            "Buzz\n",
            "a\n",
            "Fizz\n",
            "a\n",
            "a\n",
            "Fizz\n",
            "a\n",
            "a\n",
            "Fizz\n",
            "a\n",
            "Buzz\n",
            "Fizz\n",
            "a\n",
            "a\n",
            "Fizz\n",
            "Buzz\n",
            "a\n",
            "Fizz\n",
            "a\n",
            "a\n",
            "Fizz\n",
            "a\n",
            "a\n",
            "Fizz\n",
            "a\n",
            "Buzz\n",
            "Fizz\n",
            "a\n",
            "a\n",
            "Fizz\n",
            "Buzz\n",
            "a\n",
            "Fizz\n",
            "a\n",
            "a\n",
            "Fizz\n",
            "a\n",
            "a\n",
            "Fizz\n",
            "a\n",
            "Buzz\n",
            "Fizz\n",
            "a\n",
            "a\n",
            "Fizz\n",
            "Buzz\n",
            "a\n",
            "Fizz\n",
            "a\n",
            "a\n",
            "Fizz\n",
            "a\n",
            "a\n",
            "Fizz\n",
            "a\n",
            "Buzz\n",
            "Fizz\n",
            "a\n",
            "a\n",
            "Fizz\n",
            "Buzz\n"
          ]
        }
      ],
      "source": [
        "for num in range (1,101):\n",
        "  if num %3==0:\n",
        "    print(\"Fizz\")\n",
        "  elif num %5==0:\n",
        "    print(\"Buzz\")\n",
        "  elif num %5==0 and num %3==0:\n",
        "    print (\"FizzBuzz\")\n",
        "  else : \n",
        "    print (\"a\")\n"
      ]
    },
    {
      "cell_type": "markdown",
      "metadata": {
        "id": "rl4puvX-BgRQ"
      },
      "source": [
        "____\n",
        "**Use List Comprehension to create a list of the first letters of every word in the string below:**"
      ]
    },
    {
      "cell_type": "code",
      "execution_count": 18,
      "metadata": {
        "id": "CiabXErwBgRR"
      },
      "outputs": [],
      "source": [
        "st = 'Create a list of the first letters of every word in this string'"
      ]
    },
    {
      "cell_type": "code",
      "source": [
        "u=[]\n",
        "j=st.split(\" \")\n",
        "for v in range (0,13):\n",
        "  p=j[v][0]\n",
        "  u.insert(13,p)\n",
        "print(u)\n",
        "  "
      ],
      "metadata": {
        "colab": {
          "base_uri": "https://localhost:8080/"
        },
        "id": "UAZtNNs6tUBM",
        "outputId": "725128e2-680e-407f-956b-8aba14b4350c"
      },
      "execution_count": 19,
      "outputs": [
        {
          "output_type": "stream",
          "name": "stdout",
          "text": [
            "['C', 'a', 'l', 'o', 't', 'f', 'l', 'o', 'e', 'w', 'i', 't', 's']\n"
          ]
        }
      ]
    },
    {
      "cell_type": "markdown",
      "metadata": {
        "id": "i6RN5siuBgRS"
      },
      "source": [
        "### Great Job!"
      ]
    }
  ],
  "metadata": {
    "kernelspec": {
      "display_name": "Python 3",
      "language": "python",
      "name": "python3"
    },
    "language_info": {
      "codemirror_mode": {
        "name": "ipython",
        "version": 3
      },
      "file_extension": ".py",
      "mimetype": "text/x-python",
      "name": "python",
      "nbconvert_exporter": "python",
      "pygments_lexer": "ipython3",
      "version": "3.8.5"
    },
    "colab": {
      "name": "Assignment 2.ipynb",
      "provenance": [],
      "include_colab_link": true
    }
  },
  "nbformat": 4,
  "nbformat_minor": 0
}