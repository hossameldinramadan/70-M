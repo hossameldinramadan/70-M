{
  "cells": [
    {
      "cell_type": "markdown",
      "metadata": {
        "id": "view-in-github",
        "colab_type": "text"
      },
      "source": [
        "<a href=\"https://colab.research.google.com/github/hossameldinramadan/70-M/blob/main/Assignment_3_COMPLETED.ipynb\" target=\"_parent\"><img src=\"https://colab.research.google.com/assets/colab-badge.svg\" alt=\"Open In Colab\"/></a>"
      ]
    },
    {
      "cell_type": "markdown",
      "metadata": {
        "id": "pbEa1gEzKwFh"
      },
      "source": [
        "# Assignment 3"
      ]
    },
    {
      "cell_type": "markdown",
      "metadata": {
        "id": "CFi8Qer2KwFu"
      },
      "source": [
        "### Write a function to count the number 4 in a given list."
      ]
    },
    {
      "cell_type": "code",
      "execution_count": null,
      "metadata": {
        "collapsed": true,
        "id": "FinsjADiKwFw"
      },
      "outputs": [],
      "source": [
        "def count(n):\n",
        "  for i in range (0,len(n)):\n",
        "    if n[i] == 4 :\n",
        "      print (n[i])\n",
        "  "
      ]
    },
    {
      "cell_type": "code",
      "source": [
        "count([3,4,6,4,8,4])"
      ],
      "metadata": {
        "colab": {
          "base_uri": "https://localhost:8080/"
        },
        "id": "0v43VyFZN43d",
        "outputId": "7a34ef4c-b90a-4369-f15a-ec9b4989441d"
      },
      "execution_count": null,
      "outputs": [
        {
          "output_type": "stream",
          "name": "stdout",
          "text": [
            "4\n",
            "4\n",
            "4\n"
          ]
        }
      ]
    },
    {
      "cell_type": "markdown",
      "metadata": {
        "id": "fnPhNUR5KwFx"
      },
      "source": [
        "### write a  function to check whether a number is divisible by another number."
      ]
    },
    {
      "cell_type": "code",
      "execution_count": null,
      "metadata": {
        "collapsed": true,
        "id": "xAh-qARMKwFy"
      },
      "outputs": [],
      "source": [
        "def dev_check(x,y):\n",
        "  if x%y==0:\n",
        "    print(\"{} is divisble by {}\".format(x,y))\n",
        "  else:\n",
        "    print(\" {} is not divible by {}\".format(x,y))"
      ]
    },
    {
      "cell_type": "code",
      "source": [
        "dev_check(4,2)"
      ],
      "metadata": {
        "colab": {
          "base_uri": "https://localhost:8080/"
        },
        "id": "vEFodio-P4W5",
        "outputId": "a98f5ed6-ff67-449d-957a-51854ea2590e"
      },
      "execution_count": null,
      "outputs": [
        {
          "output_type": "stream",
          "name": "stdout",
          "text": [
            "4 is divisble by 2\n"
          ]
        }
      ]
    },
    {
      "cell_type": "markdown",
      "metadata": {
        "id": "OBuzwpwaKwFz"
      },
      "source": [
        "### write a function to find the maximum and minimum numbers from a sequence of numbers."
      ]
    },
    {
      "cell_type": "code",
      "execution_count": null,
      "metadata": {
        "collapsed": true,
        "id": "oeo_685KKwF0"
      },
      "outputs": [],
      "source": [
        "def maxmin(no):\n",
        "  mx=max(no)\n",
        "  mn=min(no)\n",
        "  print(\"max is {} and min is {}\".format(mx,mn))"
      ]
    },
    {
      "cell_type": "code",
      "source": [
        "no=2,3,5,9,7"
      ],
      "metadata": {
        "id": "WrVfsBUVUzL5"
      },
      "execution_count": null,
      "outputs": []
    },
    {
      "cell_type": "code",
      "source": [
        "maxmin(no)"
      ],
      "metadata": {
        "colab": {
          "base_uri": "https://localhost:8080/"
        },
        "id": "Me3Cg0t7U2iP",
        "outputId": "c8ecfcc1-eb9b-4822-cca6-2168837c6eb1"
      },
      "execution_count": null,
      "outputs": [
        {
          "output_type": "stream",
          "name": "stdout",
          "text": [
            "max is 9 and min is 2\n"
          ]
        }
      ]
    },
    {
      "cell_type": "markdown",
      "metadata": {
        "id": "GCNhMDd5KwF1"
      },
      "source": [
        "### Write a Python function that takes two lists and returns True if they have at least one common member."
      ]
    },
    {
      "cell_type": "code",
      "execution_count": null,
      "metadata": {
        "collapsed": true,
        "id": "ubVHdmiXKwF1"
      },
      "outputs": [],
      "source": [
        "def list_comp(L1,L2):\n",
        "  for p1 in range(0,len(L1)):\n",
        "    for p2 in range (0,len(L2)):\n",
        "      if L1[p1]-L2[p2]==0:\n",
        "        print(\"\\033[1;32m\",\"True\")\n",
        "        print(\"\\033[1;34m\",\"for element {}---> index {},in list L1\".format(L1[p1],p1))\n",
        "        print(\"\\033[1;35m\",\"--->index {},in list L2\".format(p2))\n",
        "      else:\n",
        "          pass\n",
        "    "
      ]
    },
    {
      "cell_type": "code",
      "source": [
        "L1=[1,2,3,4,5]\n",
        "L2=[5,6,7,8,9]"
      ],
      "metadata": {
        "id": "U7B2uOZN8NVE"
      },
      "execution_count": null,
      "outputs": []
    },
    {
      "cell_type": "code",
      "source": [
        "list_comp(L1,L2)"
      ],
      "metadata": {
        "colab": {
          "base_uri": "https://localhost:8080/"
        },
        "id": "kL8xMul6NDDD",
        "outputId": "968fe67b-4fba-4205-a20e-76e49dc44c88"
      },
      "execution_count": null,
      "outputs": [
        {
          "output_type": "stream",
          "name": "stdout",
          "text": [
            "\u001b[1;32m True\n",
            "\u001b[1;34m for element 5---> index 4,in list L1\n",
            "\u001b[1;35m --->index 0,in list L2\n"
          ]
        }
      ]
    },
    {
      "cell_type": "markdown",
      "metadata": {
        "id": "eBubd3mLKwF2"
      },
      "source": [
        "### Write a Python function to calculate the factorial of a number (a non-negative integer). The function accepts the number from the user"
      ]
    },
    {
      "cell_type": "code",
      "execution_count": null,
      "metadata": {
        "collapsed": true,
        "id": "XC9KV3vgKwF3"
      },
      "outputs": [],
      "source": [
        "def fact(x):\n",
        "  if x==0:\n",
        "   return 1\n",
        "  else:\n",
        "     return x*(fact(x-1))\n",
        "    \n",
        "   "
      ]
    },
    {
      "cell_type": "code",
      "source": [
        "y=int(input(\"please type a no---->\"))\n",
        "fact(y)"
      ],
      "metadata": {
        "colab": {
          "base_uri": "https://localhost:8080/"
        },
        "id": "PlthpL9Iss-h",
        "outputId": "4d4f208f-67f9-4d0f-b737-d3b3218aa222"
      },
      "execution_count": null,
      "outputs": [
        {
          "name": "stdout",
          "output_type": "stream",
          "text": [
            "please type a no---->5\n"
          ]
        },
        {
          "output_type": "execute_result",
          "data": {
            "text/plain": [
              "120"
            ]
          },
          "metadata": {},
          "execution_count": 4
        }
      ]
    },
    {
      "cell_type": "markdown",
      "metadata": {
        "id": "vYz0v6XbKwF3"
      },
      "source": [
        "### Write a Python function to check whether a number is in a given range.\n",
        "\n",
        "### The range is from 3 to 11\n"
      ]
    },
    {
      "cell_type": "code",
      "execution_count": null,
      "metadata": {
        "collapsed": true,
        "id": "CnvX6nOfKwF4"
      },
      "outputs": [],
      "source": [
        "def chk(r):\n",
        "  x=range(3,12)\n",
        "  if r in x :\n",
        "    print (\"\\033[1;32m\",\"true\")\n",
        "  else:\n",
        "     print(\"\\033[1;33m\",\"false\") \n",
        "     "
      ]
    },
    {
      "cell_type": "code",
      "source": [
        "chk(2)"
      ],
      "metadata": {
        "colab": {
          "base_uri": "https://localhost:8080/"
        },
        "id": "PwWpc_RvwqRD",
        "outputId": "932c46a7-edeb-47a5-ad9f-349ace1ee9d1"
      },
      "execution_count": null,
      "outputs": [
        {
          "output_type": "stream",
          "name": "stdout",
          "text": [
            "\u001b[1;33m false\n"
          ]
        }
      ]
    },
    {
      "cell_type": "markdown",
      "metadata": {
        "id": "Ck2p6OFqKwF4"
      },
      "source": [
        "### Write a  program to create the multiplication table (from 1 to 10) of a number."
      ]
    },
    {
      "cell_type": "code",
      "execution_count": null,
      "metadata": {
        "collapsed": true,
        "id": "Md-AnDngKwF5"
      },
      "outputs": [],
      "source": [
        "def mlt(x):\n",
        "  for i in range(1,11):\n",
        "    y=x*i\n",
        "    print(x,\"X\",i,\"=\",y)\n",
        "    i=i+1\n",
        "    "
      ]
    },
    {
      "cell_type": "code",
      "source": [
        "mlt(4)"
      ],
      "metadata": {
        "colab": {
          "base_uri": "https://localhost:8080/"
        },
        "id": "U69crOm0ycG-",
        "outputId": "3727be91-7e82-4568-ea2c-36d3248b9bf7"
      },
      "execution_count": null,
      "outputs": [
        {
          "output_type": "stream",
          "name": "stdout",
          "text": [
            "4 X 1 = 4\n",
            "4 X 2 = 8\n",
            "4 X 3 = 12\n",
            "4 X 4 = 16\n",
            "4 X 5 = 20\n",
            "4 X 6 = 24\n",
            "4 X 7 = 28\n",
            "4 X 8 = 32\n",
            "4 X 9 = 36\n",
            "4 X 10 = 40\n"
          ]
        }
      ]
    },
    {
      "cell_type": "markdown",
      "metadata": {
        "id": "k_F16gw6KwF5"
      },
      "source": [
        "#### LESSER OF TWO EVENS: Write a function that returns the lesser of two given numbers *if* both numbers are even, but returns the greater if one or both numbers are odd\n",
        "    lesser_of_two_evens(2,4) --> 2\n",
        "    lesser_of_two_evens(2,5) --> 5"
      ]
    },
    {
      "cell_type": "code",
      "execution_count": 2,
      "metadata": {
        "id": "UJjC1hlrKwF6"
      },
      "outputs": [],
      "source": [
        "def lessoftwo(x,y):\n",
        "  if x%2==0 and y%2==0:\n",
        "    z=min(x,y)\n",
        "    print(\"Both are\",\"\\033[1;35m\",\"EVEN\")\n",
        "    print(\"The minimum is--->\",z)\n",
        "    pass\n",
        "  else:\n",
        "    if x%2==0 :\n",
        "      print(\"The even no is {} and the odd is {}\".format(x,y))\n",
        "      z=max(x,y) \n",
        "      print(\"The maximum is--->\",z)\n",
        "      pass\n",
        "    elif y%2==0:\n",
        "      print(\"the even no is {} and the odd is {}\".format(y,x))  \n",
        "      z=max(x,y)\n",
        "      print(\"The maximum is--->\",z)\n",
        "      pass\n",
        "    else:\n",
        "      print(\"both are odd\")  \n",
        "      z=max(x,y)\n",
        "      print(\"The maximum is--->\",z)"
      ]
    },
    {
      "cell_type": "code",
      "source": [
        "lessoftwo(2,4)"
      ],
      "metadata": {
        "colab": {
          "base_uri": "https://localhost:8080/"
        },
        "id": "zV2I1BU-QPCf",
        "outputId": "61890504-fd12-439c-c19f-930fb70b1542"
      },
      "execution_count": 5,
      "outputs": [
        {
          "output_type": "stream",
          "name": "stdout",
          "text": [
            "Both are \u001b[1;35m EVEN\n",
            "The minimum is---> 2\n"
          ]
        }
      ]
    },
    {
      "cell_type": "code",
      "source": [
        "lessoftwo(2,5)"
      ],
      "metadata": {
        "colab": {
          "base_uri": "https://localhost:8080/"
        },
        "id": "CfYPQVzaRAs-",
        "outputId": "e8b83ed6-0733-4389-ffc7-47481d7e39bb"
      },
      "execution_count": 6,
      "outputs": [
        {
          "output_type": "stream",
          "name": "stdout",
          "text": [
            "The even no is 2 and the odd is 5\n",
            "The maximum is---> 5\n"
          ]
        }
      ]
    },
    {
      "cell_type": "markdown",
      "metadata": {
        "id": "b8tVG9B3KwF6"
      },
      "source": [
        "#### ANIMAL CRACKERS: Write a function takes a two-word string and returns True if both words begin with same letter\n",
        "    animal_crackers('Levelheaded Llama') --> True\n",
        "    animal_crackers('Crazy Kangaroo') --> False"
      ]
    },
    {
      "cell_type": "code",
      "execution_count": 8,
      "metadata": {
        "id": "J-cI2os4KwF7"
      },
      "outputs": [],
      "source": [
        "def mchwrd(x):\n",
        "  x0=list(x.split())\n",
        "  for i in range(1,len(x0)):\n",
        "    if x0[0][0]== x0[i][0]:\n",
        "      print(\"true\")\n",
        "    else :\n",
        "      print(\"false\")"
      ]
    },
    {
      "cell_type": "code",
      "source": [
        "p=\"Levelheaded Llama\"\n",
        "mchwrd(p)"
      ],
      "metadata": {
        "colab": {
          "base_uri": "https://localhost:8080/"
        },
        "id": "WjLqaKVxblwx",
        "outputId": "c22343bd-b139-498d-c55f-b12940f9d71e"
      },
      "execution_count": 10,
      "outputs": [
        {
          "output_type": "stream",
          "name": "stdout",
          "text": [
            "true\n"
          ]
        }
      ]
    },
    {
      "cell_type": "code",
      "source": [
        "v=\"Crazy Kangaroo\"\n",
        "mchwrd(v)"
      ],
      "metadata": {
        "colab": {
          "base_uri": "https://localhost:8080/"
        },
        "id": "u1Bs5d9nb2tL",
        "outputId": "ac7c72fd-0b09-4ee0-dac2-e2fb68638f6c"
      },
      "execution_count": 11,
      "outputs": [
        {
          "output_type": "stream",
          "name": "stdout",
          "text": [
            "false\n"
          ]
        }
      ]
    },
    {
      "cell_type": "markdown",
      "metadata": {
        "id": "S-DDAL2tKwF7"
      },
      "source": [
        "#### MAKES TWENTY: Given two integers, return True if the sum of the integers is 20 *or* if one of the integers is 20. If not, return False\n",
        "\n",
        "    makes_twenty(20,10) --> True\n",
        "    makes_twenty(12,8) --> True\n",
        "    makes_twenty(2,3) --> False"
      ]
    },
    {
      "cell_type": "code",
      "execution_count": 13,
      "metadata": {
        "id": "e8Ki9MPeKwF7"
      },
      "outputs": [],
      "source": [
        "def twny(x,y):\n",
        "  if x+y==20 or x==20 or y==20:\n",
        "    print(\"true\")\n",
        "  else:\n",
        "    print(\"false\")  "
      ]
    },
    {
      "cell_type": "code",
      "source": [
        "twny(20,10);twny(12,8);twny(2,3)"
      ],
      "metadata": {
        "colab": {
          "base_uri": "https://localhost:8080/"
        },
        "id": "JHTFyDdPkV_0",
        "outputId": "37e80195-600e-430f-fe32-41806f8e3a5e"
      },
      "execution_count": 16,
      "outputs": [
        {
          "output_type": "stream",
          "name": "stdout",
          "text": [
            "true\n",
            "true\n",
            "false\n"
          ]
        }
      ]
    },
    {
      "cell_type": "markdown",
      "metadata": {
        "id": "NpFOzrQtKwF8"
      },
      "source": [
        "#### ALMOST THERE: Given an integer n, return True if n is within 10 of either 100 or 200\n",
        "\n",
        "    almost_there(90) --> True\n",
        "    almost_there(104) --> True\n",
        "    almost_there(150) --> False\n",
        "    almost_there(209) --> True\n",
        "    \n",
        "NOTE: `abs(num)` returns the absolute value of a number"
      ]
    },
    {
      "cell_type": "code",
      "execution_count": 18,
      "metadata": {
        "id": "u2bsDlDjKwF8"
      },
      "outputs": [],
      "source": [
        "def r10(x):\n",
        "  x0=abs(x)\n",
        "  if x0 in range(90,110) or x0 in range(190,210):\n",
        "    print(\"true\")\n",
        "  else:\n",
        "    print(\"false\")  "
      ]
    },
    {
      "cell_type": "code",
      "source": [
        "r10(90);r10(104);r10(150);r10(209)"
      ],
      "metadata": {
        "colab": {
          "base_uri": "https://localhost:8080/"
        },
        "id": "7cyaG_-EnacW",
        "outputId": "d2dbe428-06ba-4e65-a110-56044c355f25"
      },
      "execution_count": 19,
      "outputs": [
        {
          "output_type": "stream",
          "name": "stdout",
          "text": [
            "true\n",
            "true\n",
            "false\n",
            "true\n"
          ]
        }
      ]
    },
    {
      "cell_type": "markdown",
      "metadata": {
        "id": "5oezbWSKKwF9"
      },
      "source": [
        "#### BLACKJACK: Given three integers between 1 and 11, if their sum is less than or equal to 21, return their sum. If their sum exceeds 21 *and* there's an eleven, reduce the total sum by 10. Finally, if the sum  exceeds 21, return 'BUST'\n",
        "    blackjack(5,6,7) --> 18\n",
        "    blackjack(9,9,9) --> 'BUST'\n",
        "    blackjack(9,9,11) --> 19"
      ]
    },
    {
      "cell_type": "code",
      "execution_count": 21,
      "metadata": {
        "id": "OCwQg_hmKwF9"
      },
      "outputs": [],
      "source": [
        "def bj(x,y,z):\n",
        "  x in range(0,11);y in range(0,11);z in range(0,11)\n",
        "  sum=x+y+z\n",
        "  if sum <= 21 :\n",
        "    print(sum)\n",
        "  elif sum>21 and (x-11==0 or y-11==0 or z-11==0):\n",
        "    nsum=sum-10\n",
        "    print(nsum)  \n",
        "  else:\n",
        "    print(\"bust\")  "
      ]
    },
    {
      "cell_type": "code",
      "source": [
        "bj(5,6,7);bj(9,9,9);bj(9,9,11)"
      ],
      "metadata": {
        "colab": {
          "base_uri": "https://localhost:8080/"
        },
        "id": "vzZhl1Wpqe_9",
        "outputId": "1efa1096-a7b9-4a9b-fec9-6108e576f4ea"
      },
      "execution_count": 22,
      "outputs": [
        {
          "output_type": "stream",
          "name": "stdout",
          "text": [
            "18\n",
            "bust\n",
            "19\n"
          ]
        }
      ]
    }
  ],
  "metadata": {
    "kernelspec": {
      "display_name": "Python 3",
      "language": "python",
      "name": "python3"
    },
    "language_info": {
      "codemirror_mode": {
        "name": "ipython",
        "version": 3
      },
      "file_extension": ".py",
      "mimetype": "text/x-python",
      "name": "python",
      "nbconvert_exporter": "python",
      "pygments_lexer": "ipython3",
      "version": "3.8.5"
    },
    "colab": {
      "name": "Assignment 3 COMPLETED.ipynb",
      "provenance": [],
      "include_colab_link": true
    }
  },
  "nbformat": 4,
  "nbformat_minor": 0
}