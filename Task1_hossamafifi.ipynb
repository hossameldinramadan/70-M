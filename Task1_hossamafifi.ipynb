{
  "nbformat": 4,
  "nbformat_minor": 0,
  "metadata": {
    "colab": {
      "name": "Copy of Task1_hossamafifi.ipynb",
      "provenance": [],
      "authorship_tag": "ABX9TyMrGVUCiO9KuqzhcHgxythr",
      "include_colab_link": true
    },
    "kernelspec": {
      "name": "python3",
      "display_name": "Python 3"
    },
    "language_info": {
      "name": "python"
    }
  },
  "cells": [
    {
      "cell_type": "markdown",
      "metadata": {
        "id": "view-in-github",
        "colab_type": "text"
      },
      "source": [
        "<a href=\"https://colab.research.google.com/github/hossameldinramadan/70-M/blob/main/Task1_hossamafifi.ipynb\" target=\"_parent\"><img src=\"https://colab.research.google.com/assets/colab-badge.svg\" alt=\"Open In Colab\"/></a>"
      ]
    },
    {
      "cell_type": "code",
      "execution_count": null,
      "metadata": {
        "id": "s1fWAMhnQ7Tk"
      },
      "outputs": [],
      "source": [
        "# Gravitational force calculator Fg"
      ]
    },
    {
      "cell_type": "code",
      "source": [
        " G = 6.67*1e-11\n",
        " M = 6.00*1e24\n",
        " m = 7.34*1e22\n",
        " r = 3.84*1e8"
      ],
      "metadata": {
        "id": "uJvvXUBNRNGh"
      },
      "execution_count": null,
      "outputs": []
    },
    {
      "cell_type": "code",
      "source": [
        "Fg = G*M*m/pow(r,2)"
      ],
      "metadata": {
        "id": "X06_dwCSY3D1"
      },
      "execution_count": null,
      "outputs": []
    },
    {
      "cell_type": "code",
      "source": [
        "print (\"the answer is =\", Fg)"
      ],
      "metadata": {
        "colab": {
          "base_uri": "https://localhost:8080/"
        },
        "id": "nKZaqhJhZIQn",
        "outputId": "90626c69-5d23-48d5-dc0d-ca83c4008e8c"
      },
      "execution_count": null,
      "outputs": [
        {
          "output_type": "stream",
          "name": "stdout",
          "text": [
            "the answer is = 1.9920979817708333e+20\n"
          ]
        }
      ]
    },
    {
      "cell_type": "code",
      "source": [
        "format(Fg)"
      ],
      "metadata": {
        "colab": {
          "base_uri": "https://localhost:8080/",
          "height": 35
        },
        "id": "WSqk4Zhraqxw",
        "outputId": "93b6f75c-9c98-4c4f-cc3f-d71aee8f375d"
      },
      "execution_count": null,
      "outputs": [
        {
          "output_type": "execute_result",
          "data": {
            "text/plain": [
              "'1.9920979817708333e+20'"
            ],
            "application/vnd.google.colaboratory.intrinsic+json": {
              "type": "string"
            }
          },
          "metadata": {},
          "execution_count": 40
        }
      ]
    },
    {
      "cell_type": "code",
      "source": [
        ""
      ],
      "metadata": {
        "id": "w_xbMiCdd_kB"
      },
      "execution_count": null,
      "outputs": []
    }
  ]
}