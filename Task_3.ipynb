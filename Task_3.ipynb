{
  "nbformat": 4,
  "nbformat_minor": 0,
  "metadata": {
    "colab": {
      "name": "Task_3.ipynb",
      "provenance": [],
      "authorship_tag": "ABX9TyM+eQUzQ4IjK7t3NTnWwYkG",
      "include_colab_link": true
    },
    "kernelspec": {
      "name": "python3",
      "display_name": "Python 3"
    },
    "language_info": {
      "name": "python"
    }
  },
  "cells": [
    {
      "cell_type": "markdown",
      "metadata": {
        "id": "view-in-github",
        "colab_type": "text"
      },
      "source": [
        "<a href=\"https://colab.research.google.com/github/hossameldinramadan/70-M/blob/main/Task_3.ipynb\" target=\"_parent\"><img src=\"https://colab.research.google.com/assets/colab-badge.svg\" alt=\"Open In Colab\"/></a>"
      ]
    },
    {
      "cell_type": "code",
      "source": [
        "x=str(input(\"F.name--->\").capitalize())\n",
        "y=input(\"L.name--->\").upper()\n",
        "z=input(\"Gender--->\").capitalize()\n",
        "u=input(\"I.D no--->\")\n",
        "\n",
        "print(\"Information you had ENTERED--->\",x,y,z,u)\n",
        "with open(\"infofile\",\"w\") as f:\n",
        "  f.write((\" F.name you entered is {}\"\"\\n\").format(x))\n",
        "  f.write((\" L.name you entered is {}\"\"\\n\").format(y))\n",
        "  f.write((\" Gender you entered is {}\"\"\\n\").format(z))\n",
        "  f.write((\" I.D no you entered is {}\"\"\\n\").format(u))\n",
        "f=open(\"infofile\",\"r\")\n",
        "print(\"information you had SAVED--->\",f.read())  \n",
        "  "
      ],
      "metadata": {
        "colab": {
          "base_uri": "https://localhost:8080/"
        },
        "id": "OiHjxg7muA8C",
        "outputId": "582b781f-3085-4a5f-91c4-b6ee5539d4b2"
      },
      "execution_count": 28,
      "outputs": [
        {
          "output_type": "stream",
          "name": "stdout",
          "text": [
            "F.name--->hossameldin\n",
            "L.name--->afifi\n",
            "Gender--->male\n",
            "I.D no--->1987\n",
            "Information you had ENTERED---> Hossameldin AFIFI Male 1987\n",
            "information you had SAVED--->  F.name you entered is Hossameldin\n",
            " L.name you entered is AFIFI\n",
            " Gender you entered is Male\n",
            " I.D no you entered is 1987\n",
            "\n"
          ]
        }
      ]
    },
    {
      "cell_type": "code",
      "source": [],
      "metadata": {
        "id": "8Y5oyblEwWLu"
      },
      "execution_count": null,
      "outputs": []
    }
  ]
}