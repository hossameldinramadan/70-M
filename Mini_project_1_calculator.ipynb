{
  "nbformat": 4,
  "nbformat_minor": 0,
  "metadata": {
    "colab": {
      "name": "Mini project_1_calculator.ipynb",
      "provenance": [],
      "authorship_tag": "ABX9TyP6FUB2W8f1hf4wQxbFIFFB",
      "include_colab_link": true
    },
    "kernelspec": {
      "name": "python3",
      "display_name": "Python 3"
    },
    "language_info": {
      "name": "python"
    }
  },
  "cells": [
    {
      "cell_type": "markdown",
      "metadata": {
        "id": "view-in-github",
        "colab_type": "text"
      },
      "source": [
        "<a href=\"https://colab.research.google.com/github/hossameldinramadan/70-M/blob/main/Mini_project_1_calculator.ipynb\" target=\"_parent\"><img src=\"https://colab.research.google.com/assets/colab-badge.svg\" alt=\"Open In Colab\"/></a>"
      ]
    },
    {
      "cell_type": "code",
      "source": [
        "# Calculator\n",
        "#--------------------\n",
        "# 1= Addition\n",
        "# 2= substraction\n",
        "# 3= Multiplication\n",
        "# 4= Division"
      ],
      "metadata": {
        "id": "_YZJghM6Hsmh"
      },
      "execution_count": 7,
      "outputs": []
    },
    {
      "cell_type": "code",
      "source": [
        "\n",
        "def calc(x,y,i):\n",
        "  \n",
        "   while i==1:\n",
        "    a=x+y\n",
        "    print(\"your addition is---->\",a) \n",
        "    break     \n",
        "   while i==2:\n",
        "    s=x-y\n",
        "    print(\"your substraction is---->\",s)\n",
        "    break \n",
        "   while i==3:\n",
        "    m=x*y\n",
        "    print(\"your multiplication is---->\",m) \n",
        "    break\n",
        "   while i==4:\n",
        "    d=x//y\n",
        "    print(\"your division is---->\",d)  \n",
        "    break\n",
        "\n",
        "\n",
        "\n"
      ],
      "metadata": {
        "id": "u9iEdsbKeR4v"
      },
      "execution_count": 79,
      "outputs": []
    },
    {
      "cell_type": "code",
      "source": [
        "I=int(input(\"please type your first no==\"))\n",
        "II=int(input(\"please type your second no==\"))\n",
        "III=int(input(\"arithmatic operation==\"))\n",
        "calc(I,II,III)"
      ],
      "metadata": {
        "colab": {
          "base_uri": "https://localhost:8080/"
        },
        "id": "pE4HIm3tuS_h",
        "outputId": "067eb4a6-f1fe-4785-8630-4cdeb1f0af75"
      },
      "execution_count": 93,
      "outputs": [
        {
          "output_type": "stream",
          "name": "stdout",
          "text": [
            "please type your first no==3\n",
            "please type your second no==4\n",
            "arithmatic operation==3\n",
            "your multiplication is----> 12\n"
          ]
        }
      ]
    }
  ]
}